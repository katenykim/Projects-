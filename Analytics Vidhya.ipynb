{
 "cells": [
  {
   "cell_type": "code",
   "execution_count": 1,
   "metadata": {},
   "outputs": [
    {
     "data": {
      "text/html": [
       "<div>\n",
       "<style scoped>\n",
       "    .dataframe tbody tr th:only-of-type {\n",
       "        vertical-align: middle;\n",
       "    }\n",
       "\n",
       "    .dataframe tbody tr th {\n",
       "        vertical-align: top;\n",
       "    }\n",
       "\n",
       "    .dataframe thead th {\n",
       "        text-align: right;\n",
       "    }\n",
       "</style>\n",
       "<table border=\"1\" class=\"dataframe\">\n",
       "  <thead>\n",
       "    <tr style=\"text-align: right;\">\n",
       "      <th></th>\n",
       "      <th>날짜</th>\n",
       "      <th>Y</th>\n",
       "      <th>지수시가</th>\n",
       "      <th>지수고가</th>\n",
       "      <th>지수저가</th>\n",
       "      <th>지수종가</th>\n",
       "      <th>거래량</th>\n",
       "      <th>거래대금</th>\n",
       "      <th>상장주식수</th>\n",
       "      <th>시가총액</th>\n",
       "      <th>...</th>\n",
       "      <th>보합종목수</th>\n",
       "      <th>상한종목수</th>\n",
       "      <th>하한종목수</th>\n",
       "      <th>연중최고가종목수</th>\n",
       "      <th>연중최저가종목수</th>\n",
       "      <th>25일이평상회종목건수</th>\n",
       "      <th>25일이평하회종목건수</th>\n",
       "      <th>52주신고가종목수</th>\n",
       "      <th>52주신저가종목수</th>\n",
       "      <th>배당 수익율</th>\n",
       "    </tr>\n",
       "  </thead>\n",
       "  <tbody>\n",
       "    <tr>\n",
       "      <th>0</th>\n",
       "      <td>1/2/01</td>\n",
       "      <td>상승</td>\n",
       "      <td>503.31</td>\n",
       "      <td>521.34</td>\n",
       "      <td>500.97</td>\n",
       "      <td>520.95</td>\n",
       "      <td>231014600</td>\n",
       "      <td>1223328</td>\n",
       "      <td>19638887</td>\n",
       "      <td>191252891</td>\n",
       "      <td>...</td>\n",
       "      <td>22</td>\n",
       "      <td>167</td>\n",
       "      <td>16</td>\n",
       "      <td>0</td>\n",
       "      <td>0</td>\n",
       "      <td>26</td>\n",
       "      <td>73</td>\n",
       "      <td>1</td>\n",
       "      <td>85</td>\n",
       "      <td>0.0</td>\n",
       "    </tr>\n",
       "    <tr>\n",
       "      <th>1</th>\n",
       "      <td>1/3/01</td>\n",
       "      <td>상승</td>\n",
       "      <td>512.74</td>\n",
       "      <td>524.58</td>\n",
       "      <td>510.70</td>\n",
       "      <td>521.43</td>\n",
       "      <td>324584400</td>\n",
       "      <td>1583403</td>\n",
       "      <td>19633559</td>\n",
       "      <td>191363161</td>\n",
       "      <td>...</td>\n",
       "      <td>52</td>\n",
       "      <td>85</td>\n",
       "      <td>6</td>\n",
       "      <td>0</td>\n",
       "      <td>0</td>\n",
       "      <td>28</td>\n",
       "      <td>71</td>\n",
       "      <td>1</td>\n",
       "      <td>12</td>\n",
       "      <td>0.0</td>\n",
       "    </tr>\n",
       "    <tr>\n",
       "      <th>2</th>\n",
       "      <td>1/4/01</td>\n",
       "      <td>상승</td>\n",
       "      <td>551.53</td>\n",
       "      <td>567.16</td>\n",
       "      <td>550.91</td>\n",
       "      <td>558.02</td>\n",
       "      <td>444540900</td>\n",
       "      <td>2984761</td>\n",
       "      <td>19634734</td>\n",
       "      <td>204074166</td>\n",
       "      <td>...</td>\n",
       "      <td>20</td>\n",
       "      <td>149</td>\n",
       "      <td>3</td>\n",
       "      <td>0</td>\n",
       "      <td>0</td>\n",
       "      <td>42</td>\n",
       "      <td>57</td>\n",
       "      <td>1</td>\n",
       "      <td>2</td>\n",
       "      <td>0.0</td>\n",
       "    </tr>\n",
       "    <tr>\n",
       "      <th>3</th>\n",
       "      <td>1/5/01</td>\n",
       "      <td>상승</td>\n",
       "      <td>559.54</td>\n",
       "      <td>581.41</td>\n",
       "      <td>555.40</td>\n",
       "      <td>580.85</td>\n",
       "      <td>578286000</td>\n",
       "      <td>3569582</td>\n",
       "      <td>19637038</td>\n",
       "      <td>212089180</td>\n",
       "      <td>...</td>\n",
       "      <td>37</td>\n",
       "      <td>92</td>\n",
       "      <td>9</td>\n",
       "      <td>0</td>\n",
       "      <td>0</td>\n",
       "      <td>43</td>\n",
       "      <td>56</td>\n",
       "      <td>3</td>\n",
       "      <td>2</td>\n",
       "      <td>0.0</td>\n",
       "    </tr>\n",
       "    <tr>\n",
       "      <th>4</th>\n",
       "      <td>1/8/01</td>\n",
       "      <td>상승</td>\n",
       "      <td>573.72</td>\n",
       "      <td>587.91</td>\n",
       "      <td>572.48</td>\n",
       "      <td>586.65</td>\n",
       "      <td>558645100</td>\n",
       "      <td>2948092</td>\n",
       "      <td>19630735</td>\n",
       "      <td>214231273</td>\n",
       "      <td>...</td>\n",
       "      <td>45</td>\n",
       "      <td>72</td>\n",
       "      <td>5</td>\n",
       "      <td>0</td>\n",
       "      <td>0</td>\n",
       "      <td>43</td>\n",
       "      <td>56</td>\n",
       "      <td>6</td>\n",
       "      <td>1</td>\n",
       "      <td>0.0</td>\n",
       "    </tr>\n",
       "  </tbody>\n",
       "</table>\n",
       "<p>5 rows × 31 columns</p>\n",
       "</div>"
      ],
      "text/plain": [
       "       날짜   Y    지수시가    지수고가    지수저가    지수종가        거래량     거래대금     상장주식수  \\\n",
       "0  1/2/01  상승  503.31  521.34  500.97  520.95  231014600  1223328  19638887   \n",
       "1  1/3/01  상승  512.74  524.58  510.70  521.43  324584400  1583403  19633559   \n",
       "2  1/4/01  상승  551.53  567.16  550.91  558.02  444540900  2984761  19634734   \n",
       "3  1/5/01  상승  559.54  581.41  555.40  580.85  578286000  3569582  19637038   \n",
       "4  1/8/01  상승  573.72  587.91  572.48  586.65  558645100  2948092  19630735   \n",
       "\n",
       "        시가총액  ...  보합종목수  상한종목수  하한종목수  연중최고가종목수  연중최저가종목수  25일이평상회종목건수  \\\n",
       "0  191252891  ...     22    167     16         0         0           26   \n",
       "1  191363161  ...     52     85      6         0         0           28   \n",
       "2  204074166  ...     20    149      3         0         0           42   \n",
       "3  212089180  ...     37     92      9         0         0           43   \n",
       "4  214231273  ...     45     72      5         0         0           43   \n",
       "\n",
       "   25일이평하회종목건수  52주신고가종목수  52주신저가종목수  배당 수익율  \n",
       "0           73          1         85     0.0  \n",
       "1           71          1         12     0.0  \n",
       "2           57          1          2     0.0  \n",
       "3           56          3          2     0.0  \n",
       "4           56          6          1     0.0  \n",
       "\n",
       "[5 rows x 31 columns]"
      ]
     },
     "execution_count": 1,
     "metadata": {},
     "output_type": "execute_result"
    }
   ],
   "source": [
    "import pandas as pd\n",
    "import numpy as np\n",
    "\n",
    "import matplotlib.pyplot as plt\n",
    "from matplotlib.pylab import rcParams\n",
    "rcParams['figure.figsize'] = 20, 10\n",
    "\n",
    "from sklearn.preprocessing import MinMaxScaler\n",
    "scaler = MinMaxScaler(feature_range = (0, 1))\n",
    "\n",
    "df = pd.read_csv('KOSPI_국면분석.csv')\n",
    "df.head()"
   ]
  },
  {
   "cell_type": "code",
   "execution_count": 2,
   "metadata": {},
   "outputs": [
    {
     "name": "stderr",
     "output_type": "stream",
     "text": [
      "/Users/katekim/anaconda3/lib/python3.7/site-packages/pandas/plotting/_converter.py:129: FutureWarning: Using an implicitly registered datetime converter for a matplotlib plotting method. The converter was registered by pandas on import. Future versions of pandas will require you to explicitly register matplotlib converters.\n",
      "\n",
      "To register the converters:\n",
      "\t>>> from pandas.plotting import register_matplotlib_converters\n",
      "\t>>> register_matplotlib_converters()\n",
      "  warnings.warn(msg, FutureWarning)\n"
     ]
    },
    {
     "data": {
      "text/plain": [
       "[<matplotlib.lines.Line2D at 0x1102cfb38>]"
      ]
     },
     "execution_count": 2,
     "metadata": {},
     "output_type": "execute_result"
    },
    {
     "data": {
      "image/png": "[encoded data removed]",
      "text/plain": [
       "<Figure size 1152x576 with 1 Axes>"
      ]
     },
     "metadata": {
      "needs_background": "light"
     },
     "output_type": "display_data"
    }
   ],
   "source": [
    "df['날짜'] = pd.to_datetime(df['날짜'])\n",
    "df.index = df['날짜']\n",
    "\n",
    "plt.figure(figsize = (16, 8))\n",
    "plt.plot(df['지수종가'], label = '지수종가 History')"
   ]
  },
  {
   "cell_type": "code",
   "execution_count": 3,
   "metadata": {},
   "outputs": [],
   "source": [
    "# Creating dataframe with date and the target variable\n",
    "data = df.sort_index(ascending = True, axis = 0)\n",
    "new_data = pd.DataFrame(index = range(0, len(df)), columns = ['날짜', '지수종가'])\n",
    "\n",
    "for i in range(0, len(data)):\n",
    "    new_data['날짜'][i] = data['날짜'][i]\n",
    "    new_data['지수종가'][i] = data['지수종가'][i]"
   ]
  },
  {
   "cell_type": "code",
   "execution_count": 4,
   "metadata": {},
   "outputs": [],
   "source": [
    "# Splitting into Train and Validation\n",
    "train = new_data[:4205]\n",
    "valid = new_data[4205:]"
   ]
  },
  {
   "cell_type": "code",
   "execution_count": 5,
   "metadata": {},
   "outputs": [
    {
     "name": "stdout",
     "output_type": "stream",
     "text": [
      "\n",
      " Shape of training set:\n",
      "(4205, 2)\n",
      "\n",
      " Shape of validation set:\n",
      "(244, 2)\n"
     ]
    }
   ],
   "source": [
    "# Shapes of Traning and Validation set\n",
    "print('\\n Shape of training set:')\n",
    "print(train.shape)\n",
    "\n",
    "print('\\n Shape of validation set:')\n",
    "print(valid.shape)"
   ]
  },
  {
   "cell_type": "code",
   "execution_count": 6,
   "metadata": {},
   "outputs": [],
   "source": [
    "# Making Predictions\n",
    "pred = []\n",
    "for i in range(0, valid.shape[0]):\n",
    "    a = train['지수종가'][len(train) - 244 + i].sum() + sum(pred)\n",
    "    b = a / 244\n",
    "    pred.append(b)"
   ]
  },
  {
   "cell_type": "code",
   "execution_count": 7,
   "metadata": {},
   "outputs": [
    {
     "name": "stdout",
     "output_type": "stream",
     "text": [
      "\n",
      " RMSE value on validation set:\n",
      "2314.6328830224916\n"
     ]
    }
   ],
   "source": [
    "# Cheking the results (RMSE value)\n",
    "rms = np.sqrt(np.mean(np.power(np.array(valid['지수종가'] - pred), 2)))\n",
    "print('\\n RMSE value on validation set:')\n",
    "print(rms)"
   ]
  },
  {
   "cell_type": "code",
   "execution_count": 8,
   "metadata": {},
   "outputs": [
    {
     "name": "stderr",
     "output_type": "stream",
     "text": [
      "/Users/katekim/anaconda3/lib/python3.7/site-packages/ipykernel_launcher.py:2: SettingWithCopyWarning: \n",
      "A value is trying to be set on a copy of a slice from a DataFrame.\n",
      "Try using .loc[row_indexer,col_indexer] = value instead\n",
      "\n",
      "See the caveats in the documentation: http://pandas.pydata.org/pandas-docs/stable/indexing.html#indexing-view-versus-copy\n",
      "  \n",
      "/Users/katekim/anaconda3/lib/python3.7/site-packages/ipykernel_launcher.py:3: SettingWithCopyWarning: \n",
      "A value is trying to be set on a copy of a slice from a DataFrame.\n",
      "Try using .loc[row_indexer,col_indexer] = value instead\n",
      "\n",
      "See the caveats in the documentation: http://pandas.pydata.org/pandas-docs/stable/indexing.html#indexing-view-versus-copy\n",
      "  This is separate from the ipykernel package so we can avoid doing imports until\n"
     ]
    },
    {
     "data": {
      "text/plain": [
       "[<matplotlib.lines.Line2D at 0x1a237f2cf8>,\n",
       " <matplotlib.lines.Line2D at 0x1a237fc128>]"
      ]
     },
     "execution_count": 8,
     "metadata": {},
     "output_type": "execute_result"
    },
    {
     "data": {
      "image/png": "[encoded data removed]",
      "text/plain": [
       "<Figure size 432x288 with 1 Axes>"
      ]
     },
     "metadata": {
      "needs_background": "light"
     },
     "output_type": "display_data"
    }
   ],
   "source": [
    "valid['Predictions'] = 0\n",
    "valid['Predictions'] = pred\n",
    "plt.plot(train['지수종가'])\n",
    "plt.plot(valid[['지수종가', 'Predictions']])"
   ]
  }
 ],
 "metadata": {
  "kernelspec": {
   "display_name": "Python 3",
   "language": "python",
   "name": "python3"
  },
  "language_info": {
   "codemirror_mode": {
    "name": "ipython",
    "version": 3
   },
   "file_extension": ".py",
   "mimetype": "text/x-python",
   "name": "python",
   "nbconvert_exporter": "python",
   "pygments_lexer": "ipython3",
   "version": "3.7.3"
  }
 },
 "nbformat": 4,
 "nbformat_minor": 2
}
